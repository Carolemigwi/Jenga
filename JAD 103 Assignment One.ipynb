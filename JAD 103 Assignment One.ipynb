{
 "cells": [
  {
   "cell_type": "code",
   "execution_count": 1,
   "id": "ae70ac4c",
   "metadata": {},
   "outputs": [
    {
     "name": "stdout",
     "output_type": "stream",
     "text": [
      "Miss\n"
     ]
    }
   ],
   "source": [
    "#Extract the words miss from s\n",
    "s= \"Mississippi\"\n",
    "print(s[0:4])"
   ]
  },
  {
   "cell_type": "code",
   "execution_count": 2,
   "id": "9e456e8a",
   "metadata": {},
   "outputs": [
    {
     "name": "stdout",
     "output_type": "stream",
     "text": [
      "sip\n"
     ]
    }
   ],
   "source": [
    "#Extract the word sip from s\n",
    "s= \"Mississippi\"\n",
    "print(s[6:9])"
   ]
  },
  {
   "cell_type": "code",
   "execution_count": 4,
   "id": "f91ab169",
   "metadata": {},
   "outputs": [
    {
     "data": {
      "text/plain": [
       "11"
      ]
     },
     "execution_count": 4,
     "metadata": {},
     "output_type": "execute_result"
    }
   ],
   "source": [
    "#Print the length of s\n",
    "len(s)"
   ]
  },
  {
   "cell_type": "code",
   "execution_count": 13,
   "id": "6db4a4fc",
   "metadata": {},
   "outputs": [
    {
     "name": "stdout",
     "output_type": "stream",
     "text": [
      "sississis\n"
     ]
    }
   ],
   "source": [
    "#Extract  and repeat the  word ‘sis’ 3 times \n",
    "sis=(s[3:6])*3\n",
    "print(sis)"
   ]
  },
  {
   "cell_type": "code",
   "execution_count": 19,
   "id": "6fa4956a",
   "metadata": {},
   "outputs": [
    {
     "name": "stdout",
     "output_type": "stream",
     "text": [
      "Miss Kenya\n"
     ]
    }
   ],
   "source": [
    "#Create a string ‘Kenya ‘ and use ‘Miss’ extracted in i) to create a new string , ‘Miss Kenya’\n",
    "K=\"Kenya\"\n",
    "MK=(s[0:4])+(\" \")+K\n",
    "print(MK)"
   ]
  },
  {
   "cell_type": "code",
   "execution_count": 55,
   "id": "1c68c87c",
   "metadata": {},
   "outputs": [
    {
     "name": "stdout",
     "output_type": "stream",
     "text": [
      "Mississ\n"
     ]
    }
   ],
   "source": [
    "#indexing\n",
    "print(s[0:7])"
   ]
  },
  {
   "cell_type": "code",
   "execution_count": 54,
   "id": "9c1cff93",
   "metadata": {},
   "outputs": [
    {
     "name": "stdout",
     "output_type": "stream",
     "text": [
      "ippississiM\n"
     ]
    }
   ],
   "source": [
    "#reversing\n",
    "s2=len(s) # calculate length of the list\n",
    "s3=s[s2::-1] # slicing \n",
    "print (s3) # print the reversed string"
   ]
  },
  {
   "cell_type": "code",
   "execution_count": 56,
   "id": "f81fcde3",
   "metadata": {},
   "outputs": [
    {
     "name": "stdout",
     "output_type": "stream",
     "text": [
      "ssippi\n"
     ]
    }
   ],
   "source": [
    "#slicing\n",
    "print(s[5:])"
   ]
  },
  {
   "cell_type": "code",
   "execution_count": 68,
   "id": "c4260465",
   "metadata": {},
   "outputs": [
    {
     "name": "stdout",
     "output_type": "stream",
     "text": [
      "['Miss', 'Kenya', 2022]\n"
     ]
    }
   ],
   "source": [
    "#appending\n",
    "MK1=[\"Miss\",\"Kenya\"]\n",
    "MK1.append(2022)\n",
    "print(MK1)"
   ]
  },
  {
   "cell_type": "code",
   "execution_count": 69,
   "id": "1ff754f9",
   "metadata": {},
   "outputs": [
    {
     "name": "stdout",
     "output_type": "stream",
     "text": [
      "['Miss', 2022]\n"
     ]
    }
   ],
   "source": [
    "#removing\n",
    "MK1.remove('Kenya')\n",
    "print(MK1)"
   ]
  },
  {
   "cell_type": "code",
   "execution_count": 72,
   "id": "762b7955",
   "metadata": {},
   "outputs": [
    {
     "name": "stdout",
     "output_type": "stream",
     "text": [
      "['5am Club', 'Big Magic', 'The War of Art']\n"
     ]
    }
   ],
   "source": [
    "#sorting\n",
    "books = ['The War of Art', '5am Club', 'Big Magic']\n",
    "books.sort()\n",
    "print(books)"
   ]
  },
  {
   "cell_type": "code",
   "execution_count": 74,
   "id": "e099791d",
   "metadata": {},
   "outputs": [],
   "source": [
    "#Write and test a function , by_three ,  to print the numbers divisible by 3 between 1 and a number n\n",
    "def result(by_three):\n",
    "     \n",
    "    # iterate from 0 to N\n",
    "    for num in range(by_three):\n",
    "    \n",
    "            if num % 3 == 0:\n",
    "                print(str(num) + \" \", end = \"\")\n",
    "                 \n",
    "            else:\n",
    "                pass"
   ]
  },
  {
   "cell_type": "code",
   "execution_count": 76,
   "id": "6a47c59e",
   "metadata": {},
   "outputs": [
    {
     "name": "stdout",
     "output_type": "stream",
     "text": [
      "0 3 6 9 12 15 18 21 24 27 30 33 36 39 42 45 48 51 54 57 60 63 66 69 72 75 78 81 84 87 90 93 96 99 "
     ]
    }
   ],
   "source": [
    "#test\n",
    "by_three=100\n",
    "result(by_three)"
   ]
  },
  {
   "cell_type": "code",
   "execution_count": null,
   "id": "66e4b679",
   "metadata": {},
   "outputs": [],
   "source": [
    "#Rewrite a lambda version of the function by_three\n"
   ]
  },
  {
   "cell_type": "code",
   "execution_count": 79,
   "id": "bbbcd4a8",
   "metadata": {},
   "outputs": [
    {
     "name": "stdout",
     "output_type": "stream",
     "text": [
      "[15, 14, 13, 12, 11, 10]\n"
     ]
    }
   ],
   "source": [
    "#Write and test a  function to reverse the contents of a list\n",
    "\n",
    "lst = [10, 11, 12, 13, 14, 15]\n",
    "\n",
    "def Reverse(lst):\n",
    "    return [ele for ele in reversed(lst)]\n",
    "     \n",
    "print(Reverse(lst))"
   ]
  }
 ],
 "metadata": {
  "kernelspec": {
   "display_name": "Python 3 (ipykernel)",
   "language": "python",
   "name": "python3"
  },
  "language_info": {
   "codemirror_mode": {
    "name": "ipython",
    "version": 3
   },
   "file_extension": ".py",
   "mimetype": "text/x-python",
   "name": "python",
   "nbconvert_exporter": "python",
   "pygments_lexer": "ipython3",
   "version": "3.9.7"
  }
 },
 "nbformat": 4,
 "nbformat_minor": 5
}
