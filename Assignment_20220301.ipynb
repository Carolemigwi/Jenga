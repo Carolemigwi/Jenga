{
 "cells": [
  {
   "cell_type": "code",
   "execution_count": 7,
   "id": "480b9592",
   "metadata": {},
   "outputs": [
    {
     "name": "stdout",
     "output_type": "stream",
     "text": [
      "[[6826 2170  582 1346  636]\n",
      " [4549  382  773 5418 5601]\n",
      " [7057 3449 5435 3951 4499]\n",
      " [5749 6305 7968 3659 1743]\n",
      " [4702 4302  797 5235 3516]\n",
      " [ 749 4105 3043 2194 2345]\n",
      " [4277 8320  365  527  439]\n",
      " [7407 5999 7465 6573 6929]\n",
      " [6583 8982 1685 8890  813]\n",
      " [ 147 5465 6252 6776 1474]\n",
      " [1788 4012  263 2194  781]\n",
      " [3458 8388 3421 4594   24]\n",
      " [ 967 1466 2327 4415 9500]\n",
      " [1492 3589 6787 5497 1066]\n",
      " [5360 7149 4188 6388 4971]\n",
      " [ 876 4247 5313 6138 8829]\n",
      " [9303 2670 8163 5764 9327]\n",
      " [8614 3986 5859 9045 6108]\n",
      " [7307 7642 4709 8336 6854]\n",
      " [ 412 6330 6261 7218 4460]]\n"
     ]
    }
   ],
   "source": [
    "import numpy as np\n",
    "np.random.seed(16)\n",
    "random_integers = np.random.randint(1,high=10000, size=(20, 5))\n",
    "print(random_integers)"
   ]
  },
  {
   "cell_type": "code",
   "execution_count": 34,
   "id": "b43e10f1",
   "metadata": {},
   "outputs": [
    {
     "data": {
      "text/plain": [
       "9500"
      ]
     },
     "execution_count": 34,
     "metadata": {},
     "output_type": "execute_result"
    }
   ],
   "source": [
    "#Display maximum value\n",
    "np.max(random_integers)"
   ]
  },
  {
   "cell_type": "code",
   "execution_count": 35,
   "id": "8c638f60",
   "metadata": {},
   "outputs": [
    {
     "data": {
      "text/plain": [
       "24"
      ]
     },
     "execution_count": 35,
     "metadata": {},
     "output_type": "execute_result"
    }
   ],
   "source": [
    "#Display minimum value\n",
    "np.min(random_integers)"
   ]
  },
  {
   "cell_type": "code",
   "execution_count": 27,
   "id": "2212f902",
   "metadata": {},
   "outputs": [
    {
     "name": "stdout",
     "output_type": "stream",
     "text": [
      "      0     1     2     3     4\n",
      "0  6826  2170   582  1346   636\n",
      "1  4549   382   773  5418  5601\n",
      "2  7057  3449  5435  3951  4499\n"
     ]
    }
   ],
   "source": [
    "#Display a slice of first 3 rows\n",
    "df = pd.DataFrame(random_integers)\n",
    "first_3_rows = df.head(3)\n",
    "print(first_3_rows)"
   ]
  },
  {
   "cell_type": "code",
   "execution_count": 26,
   "id": "881748a2",
   "metadata": {},
   "outputs": [
    {
     "name": "stdout",
     "output_type": "stream",
     "text": [
      "       0     1     2     3     4\n",
      "17  8614  3986  5859  9045  6108\n",
      "18  7307  7642  4709  8336  6854\n",
      "19   412  6330  6261  7218  4460\n"
     ]
    }
   ],
   "source": [
    "#Display a slice of last 3 rows\n",
    "df = pd.DataFrame(random_integers)\n",
    "last_3_rows = df.tail(3)\n",
    "print(last_3_rows)"
   ]
  },
  {
   "cell_type": "code",
   "execution_count": 41,
   "id": "e1c3c992",
   "metadata": {},
   "outputs": [
    {
     "data": {
      "text/plain": [
       "array([[1346,  636],\n",
       "       [5418, 5601],\n",
       "       [3951, 4499],\n",
       "       [3659, 1743],\n",
       "       [5235, 3516],\n",
       "       [2194, 2345],\n",
       "       [ 527,  439],\n",
       "       [6573, 6929],\n",
       "       [8890,  813],\n",
       "       [6776, 1474],\n",
       "       [2194,  781],\n",
       "       [4594,   24],\n",
       "       [4415, 9500],\n",
       "       [5497, 1066],\n",
       "       [6388, 4971],\n",
       "       [6138, 8829],\n",
       "       [5764, 9327],\n",
       "       [9045, 6108],\n",
       "       [8336, 6854],\n",
       "       [7218, 4460]])"
      ]
     },
     "execution_count": 41,
     "metadata": {},
     "output_type": "execute_result"
    }
   ],
   "source": [
    "#Display a slice of last 2 columns\n",
    "\n",
    "last_2_columns = np.array(random_integers)\n",
    "last_2_columns[:,-2:]"
   ]
  },
  {
   "cell_type": "code",
   "execution_count": 78,
   "id": "3613b2e0",
   "metadata": {},
   "outputs": [
    {
     "data": {
      "text/html": [
       "<div>\n",
       "<style scoped>\n",
       "    .dataframe tbody tr th:only-of-type {\n",
       "        vertical-align: middle;\n",
       "    }\n",
       "\n",
       "    .dataframe tbody tr th {\n",
       "        vertical-align: top;\n",
       "    }\n",
       "\n",
       "    .dataframe thead th {\n",
       "        text-align: right;\n",
       "    }\n",
       "</style>\n",
       "<table border=\"1\" class=\"dataframe\">\n",
       "  <thead>\n",
       "    <tr style=\"text-align: right;\">\n",
       "      <th></th>\n",
       "      <th>3</th>\n",
       "      <th>4</th>\n",
       "    </tr>\n",
       "  </thead>\n",
       "  <tbody>\n",
       "    <tr>\n",
       "      <th>11</th>\n",
       "      <td>4594</td>\n",
       "      <td>24</td>\n",
       "    </tr>\n",
       "    <tr>\n",
       "      <th>12</th>\n",
       "      <td>4415</td>\n",
       "      <td>9500</td>\n",
       "    </tr>\n",
       "  </tbody>\n",
       "</table>\n",
       "</div>"
      ],
      "text/plain": [
       "       3     4\n",
       "11  4594    24\n",
       "12  4415  9500"
      ]
     },
     "execution_count": 78,
     "metadata": {},
     "output_type": "execute_result"
    }
   ],
   "source": [
    "#Values of 3rd to 4th column in rows 11 and 12\n",
    "df = pd.DataFrame(random_integers)\n",
    "df.iloc[[11,12],[3,4]]"
   ]
  },
  {
   "cell_type": "code",
   "execution_count": 71,
   "id": "1fdf3ab0",
   "metadata": {},
   "outputs": [
    {
     "data": {
      "text/plain": [
       "array([[ 582,  636, 1346, 2170, 6826],\n",
       "       [ 382,  773, 4549, 5418, 5601],\n",
       "       [3449, 3951, 4499, 5435, 7057],\n",
       "       [1743, 3659, 5749, 6305, 7968],\n",
       "       [ 797, 3516, 4302, 4702, 5235],\n",
       "       [ 749, 2194, 2345, 3043, 4105],\n",
       "       [ 365,  439,  527, 4277, 8320],\n",
       "       [5999, 6573, 6929, 7407, 7465],\n",
       "       [ 813, 1685, 6583, 8890, 8982],\n",
       "       [ 147, 1474, 5465, 6252, 6776],\n",
       "       [ 263,  781, 1788, 2194, 4012],\n",
       "       [  24, 3421, 3458, 4594, 8388],\n",
       "       [ 967, 1466, 2327, 4415, 9500],\n",
       "       [1066, 1492, 3589, 5497, 6787],\n",
       "       [4188, 4971, 5360, 6388, 7149],\n",
       "       [ 876, 4247, 5313, 6138, 8829],\n",
       "       [2670, 5764, 8163, 9303, 9327],\n",
       "       [3986, 5859, 6108, 8614, 9045],\n",
       "       [4709, 6854, 7307, 7642, 8336],\n",
       "       [ 412, 4460, 6261, 6330, 7218]])"
      ]
     },
     "execution_count": 71,
     "metadata": {},
     "output_type": "execute_result"
    }
   ],
   "source": [
    "#sort the values from the smallest to highest\n",
    "np.sort(random_integers)"
   ]
  },
  {
   "cell_type": "code",
   "execution_count": 48,
   "id": "c6e1bcd4",
   "metadata": {},
   "outputs": [
    {
     "name": "stdout",
     "output_type": "stream",
     "text": [
      "0    4381.15\n",
      "1    4947.90\n",
      "2    4082.80\n",
      "3    5207.90\n",
      "4    3995.75\n",
      "dtype: float64\n"
     ]
    }
   ],
   "source": [
    "#Calculate the average value by column\n",
    "df = pd.DataFrame(random_integers)\n",
    "Average = df.mean()\n",
    "print(Average)"
   ]
  },
  {
   "cell_type": "code",
   "execution_count": 52,
   "id": "95dfb7fb",
   "metadata": {},
   "outputs": [
    {
     "name": "stdout",
     "output_type": "stream",
     "text": [
      "0     2312.0\n",
      "1     3344.6\n",
      "2     4878.2\n",
      "3     5084.8\n",
      "4     3710.4\n",
      "5     2487.2\n",
      "6     2785.6\n",
      "7     6874.6\n",
      "8     5390.6\n",
      "9     4022.8\n",
      "10    1807.6\n",
      "11    3977.0\n",
      "12    3735.0\n",
      "13    3686.2\n",
      "14    5611.2\n",
      "15    5080.6\n",
      "16    7045.4\n",
      "17    6722.4\n",
      "18    6969.6\n",
      "19    4936.2\n",
      "dtype: float64\n"
     ]
    }
   ],
   "source": [
    "#Calculate the average value by rows\n",
    "df = pd.DataFrame(random_integers)\n",
    "Average = df.mean(axis=1)\n",
    "print(Average)"
   ]
  },
  {
   "cell_type": "code",
   "execution_count": 64,
   "id": "e4c19b76",
   "metadata": {},
   "outputs": [
    {
     "name": "stdout",
     "output_type": "stream",
     "text": [
      "NumPy Array:\n",
      "[[6826 2170  582 1346  636]\n",
      " [4549  382  773 5418 5601]\n",
      " [7057 3449 5435 3951 4499]\n",
      " [5749 6305 7968 3659 1743]\n",
      " [4702 4302  797 5235 3516]\n",
      " [ 749 4105 3043 2194 2345]\n",
      " [4277 8320  365  527  439]\n",
      " [7407 5999 7465 6573 6929]\n",
      " [6583 8982 1685 8890  813]\n",
      " [ 147 5465 6252 6776 1474]\n",
      " [1788 4012  263 2194  781]\n",
      " [3458 8388 3421 4594   24]\n",
      " [ 967 1466 2327 4415 9500]\n",
      " [1492 3589 6787 5497 1066]\n",
      " [5360 7149 4188 6388 4971]\n",
      " [ 876 4247 5313 6138 8829]\n",
      " [9303 2670 8163 5764 9327]\n",
      " [8614 3986 5859 9045 6108]\n",
      " [7307 7642 4709 8336 6854]\n",
      " [ 412 6330 6261 7218 4460]]\n"
     ]
    }
   ],
   "source": [
    "#Create a list and populate with values of the second column\n",
    "import numpy as np\n",
    "\n",
    "arr = np.array(random_integers)\n",
    "\n",
    "print(f'NumPy Array:\\n{arr}')\n",
    "\n",
    "random_integers_list = arr.tolist()\n"
   ]
  },
  {
   "cell_type": "code",
   "execution_count": 105,
   "id": "dddfd20b",
   "metadata": {},
   "outputs": [
    {
     "data": {
      "text/plain": [
       "array([2170,  382, 3449, 6305, 4302, 4105, 8320, 5999, 8982, 5465, 4012,\n",
       "       8388, 1466, 3589, 7149, 4247, 2670, 3986, 7642, 6330])"
      ]
     },
     "execution_count": 105,
     "metadata": {},
     "output_type": "execute_result"
    }
   ],
   "source": [
    "#Output the elements in the list created\n",
    "\n",
    "df[1].values"
   ]
  },
  {
   "cell_type": "code",
   "execution_count": 67,
   "id": "f715ea6d",
   "metadata": {},
   "outputs": [
    {
     "name": "stdout",
     "output_type": "stream",
     "text": [
      "[[ True False False False False]\n",
      " [False False False  True  True]\n",
      " [ True False  True False False]\n",
      " [ True  True  True False False]\n",
      " [False False False  True False]\n",
      " [False False False False False]\n",
      " [False  True False False False]\n",
      " [ True  True  True  True  True]\n",
      " [ True  True False  True False]\n",
      " [False  True  True  True False]\n",
      " [False False False False False]\n",
      " [False  True False False False]\n",
      " [False False False False  True]\n",
      " [False False  True  True False]\n",
      " [ True  True False  True False]\n",
      " [False False  True  True  True]\n",
      " [ True False  True  True  True]\n",
      " [ True False  True  True  True]\n",
      " [ True  True False  True  True]\n",
      " [False  True  True  True False]]\n"
     ]
    }
   ],
   "source": [
    "#use boolean operations to output elements greater than 5000\n",
    "print (random_integers>5000)"
   ]
  },
  {
   "cell_type": "code",
   "execution_count": null,
   "id": "5f5f0402",
   "metadata": {},
   "outputs": [],
   "source": []
  }
 ],
 "metadata": {
  "kernelspec": {
   "display_name": "Python 3 (ipykernel)",
   "language": "python",
   "name": "python3"
  },
  "language_info": {
   "codemirror_mode": {
    "name": "ipython",
    "version": 3
   },
   "file_extension": ".py",
   "mimetype": "text/x-python",
   "name": "python",
   "nbconvert_exporter": "python",
   "pygments_lexer": "ipython3",
   "version": "3.9.7"
  }
 },
 "nbformat": 4,
 "nbformat_minor": 5
}
