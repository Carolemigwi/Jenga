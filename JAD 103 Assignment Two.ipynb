{
 "cells": [
  {
   "cell_type": "code",
   "execution_count": null,
   "id": "a1128ec2",
   "metadata": {},
   "outputs": [],
   "source": [
    "#Write and test a python class Length with attributes feet and inches. Include the init method and appropriate getters and setters. Include a method __str__ to output the length object in the format : feet’ inches” e  5’ 11”\n",
    "    class length:#class attribute\n",
    "    feet= int(input(\"Feet': \"))\n",
    "    inches= int(input(\"Inches\": \"))\n",
    "    def __init__(self,feet,inches):\n",
    "            self.feet=feet\n",
    "            self.inches=inches\n",
    "    def print_length(self):                 \n",
    "        print(str(self.feet)+str(self.inches))"
   ]
  },
  {
   "cell_type": "code",
   "execution_count": null,
   "id": "8f9da665",
   "metadata": {},
   "outputs": [],
   "source": [
    "#Update the Length class above to include operator methods to add and subtract two length objects. For instance 5’11”+2’4”= 8’3”\n"
   ]
  }
 ],
 "metadata": {
  "kernelspec": {
   "display_name": "Python 3 (ipykernel)",
   "language": "python",
   "name": "python3"
  },
  "language_info": {
   "codemirror_mode": {
    "name": "ipython",
    "version": 3
   },
   "file_extension": ".py",
   "mimetype": "text/x-python",
   "name": "python",
   "nbconvert_exporter": "python",
   "pygments_lexer": "ipython3",
   "version": "3.9.7"
  }
 },
 "nbformat": 4,
 "nbformat_minor": 5
}
